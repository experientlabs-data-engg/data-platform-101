{
 "cells": [
  {
   "cell_type": "code",
   "execution_count": 1,
   "id": "9187db97-e233-43e8-aeef-ee13ec0cfe66",
   "metadata": {},
   "outputs": [
    {
     "name": "stdout",
     "output_type": "stream",
     "text": [
      "Python 3.11.4\n"
     ]
    }
   ],
   "source": [
    "!python --version"
   ]
  },
  {
   "cell_type": "code",
   "execution_count": 2,
   "id": "991e1f1a-f308-4247-91ac-aa6b10029e16",
   "metadata": {},
   "outputs": [
    {
     "name": "stdout",
     "output_type": "stream",
     "text": [
      "Hello World!\n"
     ]
    }
   ],
   "source": [
    "print(\"Hello World!\")"
   ]
  },
  {
   "cell_type": "code",
   "execution_count": 3,
   "id": "4cfa1eb1-c494-4336-b934-16e55fa7c1d3",
   "metadata": {},
   "outputs": [
    {
     "data": {
      "text/plain": [
       "311"
      ]
     },
     "execution_count": 3,
     "metadata": {},
     "output_type": "execute_result"
    }
   ],
   "source": [
    "5+9*34"
   ]
  },
  {
   "cell_type": "code",
   "execution_count": 1,
   "id": "19c5ed56-8604-422a-9e00-2bfbe173b3e0",
   "metadata": {},
   "outputs": [],
   "source": [
    "import findspark\n",
    "findspark.init()\n",
    "import pyspark\n",
    "from pyspark.sql import SparkSession\n",
    "import pyspark.sql.functions as f"
   ]
  },
  {
   "cell_type": "code",
   "execution_count": 2,
   "id": "8bb43802-e7e6-4b56-abdf-550f4fb7310f",
   "metadata": {},
   "outputs": [
    {
     "name": "stderr",
     "output_type": "stream",
     "text": [
      "Setting default log level to \"WARN\".\n",
      "To adjust logging level use sc.setLogLevel(newLevel). For SparkR, use setLogLevel(newLevel).\n",
      "24/08/29 14:43:26 WARN NativeCodeLoader: Unable to load native-hadoop library for your platform... using builtin-java classes where applicable\n"
     ]
    }
   ],
   "source": [
    "# create spark session\n",
    "spark = SparkSession.builder.appName(\"SparkSample\").getOrCreate()"
   ]
  },
  {
   "cell_type": "code",
   "execution_count": 3,
   "id": "8b2e118e-b0c2-46ee-98a2-ff7d030e1d54",
   "metadata": {},
   "outputs": [
    {
     "name": "stdout",
     "output_type": "stream",
     "text": [
      "+--------------------+\n",
      "|               value|\n",
      "+--------------------+\n",
      "|Disclaimer: While...|\n",
      "|                    |\n",
      "|Prompt: Generate ...|\n",
      "|                    |\n",
      "|           Response:|\n",
      "|                    |\n",
      "|A Tale of Woe and...|\n",
      "|                    |\n",
      "|In the days of yo...|\n",
      "|                    |\n",
      "|One fateful morn,...|\n",
      "|                    |\n",
      "|Elara, though fri...|\n",
      "|                    |\n",
      "|With the sword in...|\n",
      "|                    |\n",
      "|Finally, Elara re...|\n",
      "|                    |\n",
      "|At last, she foun...|\n",
      "|                    |\n",
      "+--------------------+\n",
      "only showing top 20 rows\n",
      "\n",
      "+---------------------------------------------------------------------------------------------------------------------------------------------------------------------------------------------------------------------------------------------------------------------------------------------------------------------------------------------------------------------------------------------------------------------------------------+\n",
      "|value                                                                                                                                                                                                                                                                                                                                                                                                                                  |\n",
      "+---------------------------------------------------------------------------------------------------------------------------------------------------------------------------------------------------------------------------------------------------------------------------------------------------------------------------------------------------------------------------------------------------------------------------------------+\n",
      "|Disclaimer: While I can generate text in a style reminiscent of classic archaic English, it's important to note that true mastery of this style requires deep knowledge of historical linguistics, grammar, vocabulary, and cultural nuances. This response will attempt to capture the essence of archaic English, but it may not be entirely accurate or authentic.                                                                  |\n",
      "|                                                                                                                                                                                                                                                                                                                                                                                                                                       |\n",
      "|Prompt: Generate a 5000-word text in classic archaic English.                                                                                                                                                                                                                                                                                                                                                                          |\n",
      "|                                                                                                                                                                                                                                                                                                                                                                                                                                       |\n",
      "|Response:                                                                                                                                                                                                                                                                                                                                                                                                                              |\n",
      "|                                                                                                                                                                                                                                                                                                                                                                                                                                       |\n",
      "|A Tale of Woe and Wonder                                                                                                                                                                                                                                                                                                                                                                                                               |\n",
      "|                                                                                                                                                                                                                                                                                                                                                                                                                                       |\n",
      "|In the days of yore, when the world was young, and the sun shone brighter upon the land, there lived a maiden fair of face and gentle heart. Her name was Elara, and she dwelt in a humble cottage nestled amidst a verdant forest. Her days were filled with tending to her father's sheep and gathering wild berries, her nights spent listening to the tales her grandmother would weave of dragons and fairies.                    |\n",
      "|                                                                                                                                                                                                                                                                                                                                                                                                                                       |\n",
      "|One fateful morn, as Elara was tending to her flock, a strange and wondrous creature appeared before her. It was a unicorn, its coat shimmering with the colors of the rainbow, its horn gleaming like a star. The unicorn spoke to Elara in a voice as soft as the wind, telling her of a great evil that threatened the land. A wicked sorcerer, known as Malachi, sought to enslave the kingdom and plunge it into eternal darkness.|\n",
      "|                                                                                                                                                                                                                                                                                                                                                                                                                                       |\n",
      "|Elara, though frightened, felt a surge of courage within her. She knew she must help. The unicorn guided her to a hidden cave, where she found a magical sword, its hilt adorned with precious stones. The unicorn explained that the sword was the only weapon capable of vanquishing Malachi.                                                                                                                                        |\n",
      "|                                                                                                                                                                                                                                                                                                                                                                                                                                       |\n",
      "|With the sword in hand, Elara set off on a perilous journey. She crossed treacherous mountains, traversed vast deserts, and battled fearsome creatures. Along the way, she met a wise old wizard who taught her ancient spells, and a brave knight who swore to protect her.                                                                                                                                                           |\n",
      "|                                                                                                                                                                                                                                                                                                                                                                                                                                       |\n",
      "|Finally, Elara reached the sorcerer's castle, a dark and forbidding structure that loomed over the kingdom. She crept inside, her heart pounding with fear. The castle was filled with traps and guards, but Elara managed to evade them all.                                                                                                                                                                                          |\n",
      "|                                                                                                                                                                                                                                                                                                                                                                                                                                       |\n",
      "|At last, she found Malachi in his throne room. He was a hideous creature, his eyes glowing with malice. He raised his staff, ready to cast a powerful spell, but Elara struck first. With a mighty blow, she severed the sorcerer's head.                                                                                                                                                                                              |\n",
      "|                                                                                                                                                                                                                                                                                                                                                                                                                                       |\n",
      "+---------------------------------------------------------------------------------------------------------------------------------------------------------------------------------------------------------------------------------------------------------------------------------------------------------------------------------------------------------------------------------------------------------------------------------------+\n",
      "only showing top 20 rows\n",
      "\n",
      "+--------------------+---------+\n",
      "|               value|wordCount|\n",
      "+--------------------+---------+\n",
      "|Disclaimer: While...|       55|\n",
      "|                    |        1|\n",
      "|Prompt: Generate ...|        9|\n",
      "|                    |        1|\n",
      "|           Response:|        1|\n",
      "|                    |        1|\n",
      "|A Tale of Woe and...|        6|\n",
      "|                    |        1|\n",
      "|In the days of yo...|       73|\n",
      "|                    |        1|\n",
      "|One fateful morn,...|       77|\n",
      "|                    |        1|\n",
      "|Elara, though fri...|       49|\n",
      "|                    |        1|\n",
      "|With the sword in...|       46|\n",
      "|                    |        1|\n",
      "|Finally, Elara re...|       39|\n",
      "|                    |        1|\n",
      "|At last, she foun...|       42|\n",
      "|                    |        1|\n",
      "+--------------------+---------+\n",
      "only showing top 20 rows\n",
      "\n",
      "+-------+-----+\n",
      "|   word|count|\n",
      "+-------+-----+\n",
      "|    the|   23|\n",
      "|      a|   23|\n",
      "|    and|   17|\n",
      "|     to|   15|\n",
      "|     of|   13|\n",
      "|       |   11|\n",
      "|    her|   11|\n",
      "|    was|    9|\n",
      "|    she|    8|\n",
      "|  Elara|    7|\n",
      "|     in|    6|\n",
      "|   with|    6|\n",
      "|    The|    6|\n",
      "|     as|    5|\n",
      "|    She|    4|\n",
      "|    but|    4|\n",
      "|   that|    4|\n",
      "|unicorn|    3|\n",
      "|archaic|    3|\n",
      "|    its|    3|\n",
      "+-------+-----+\n",
      "only showing top 20 rows\n",
      "\n"
     ]
    }
   ],
   "source": [
    "# read text file\n",
    "df_text_file = spark.read.text(\"textfile.txt\")\n",
    "df_text_file.show()\n",
    "df_text_file.show(truncate=False)\n",
    "\n",
    "df_total_words = df_text_file.withColumn('wordCount', f.size(f.split(f.col('value'), ' ')))\n",
    "df_total_words.show()\n",
    "\n",
    "# Word count example\n",
    "df_word_count = df_text_file.withColumn('word', f.explode(f.split(f.col('value'), ' '))).groupBy('word').count().sort('count', ascending=False)\n",
    "df_word_count.show()"
   ]
  },
  {
   "cell_type": "code",
   "execution_count": 11,
   "id": "eb681486-4790-4f5a-bb0b-c7ff74414f25",
   "metadata": {},
   "outputs": [],
   "source": [
    "spark.stop()"
   ]
  },
  {
   "cell_type": "code",
   "execution_count": null,
   "id": "023b23d3-f30d-464c-b96b-c74c72ac69e6",
   "metadata": {},
   "outputs": [],
   "source": []
  }
 ],
 "metadata": {
  "kernelspec": {
   "display_name": "Python 3 (ipykernel)",
   "language": "python",
   "name": "python3"
  },
  "language_info": {
   "codemirror_mode": {
    "name": "ipython",
    "version": 3
   },
   "file_extension": ".py",
   "mimetype": "text/x-python",
   "name": "python",
   "nbconvert_exporter": "python",
   "pygments_lexer": "ipython3",
   "version": "3.11.4"
  }
 },
 "nbformat": 4,
 "nbformat_minor": 5
}
